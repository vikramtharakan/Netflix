{
 "cells": [
  {
   "cell_type": "markdown",
   "metadata": {},
   "source": [
    "# Netflix Shows"
   ]
  },
  {
   "cell_type": "markdown",
   "metadata": {},
   "source": [
    "In this workbook we'll be anazlying trends between Netflix shows. We have a data set from Kaggle that has a plethora of information such as the actors, the director, the overall rating, what genre it is, and so on. Our goal is to\n",
    "\n",
    "<u>Base Questions</u>\n",
    "* Understanding what content is available in different countries\n",
    "* Understanding how the number of TV shows and Movies on netflix has changed over time\n",
    "\n",
    "<u>Deeper Questions</u>\n",
    "* See if we can predict the rating of any particular movie given its details (genre, actors, etc)\n",
    "\n",
    ">[Import the Data](#Import) <br>\n",
    "[Initial Investingation](#Inv) <br>\n",
    "[Question 1](#Q1)<br>\n",
    "[Question 2](#Q2)<br>\n",
    "[Question 3](#Q3)"
   ]
  },
  {
   "cell_type": "markdown",
   "metadata": {},
   "source": [
    "<a id='Import'></a>\n",
    "## Import the Data"
   ]
  },
  {
   "cell_type": "code",
   "execution_count": 1,
   "metadata": {},
   "outputs": [],
   "source": [
    "import pandas as pd\n",
    "import numpy as np\n",
    "import requests, io\n",
    "from zipfile import ZipFile\n",
    "\n",
    "import seaborn as sb\n",
    "import matplotlib.pyplot as plt\n",
    "%matplotlib inline"
   ]
  },
  {
   "cell_type": "markdown",
   "metadata": {},
   "source": [
    "> To import the zip file into my directory I used Kaggles API and searched for the dataset using the command line. A quick search (`kaggle datasets list -s netflix`) revealed that the dataset I wanted was stored under `shivamb/netflix-shows`. Thus all I had to do to download the zip file to the directory I wanted was to type `kaggle datasets download shivamb/netflix-shows` to get the zip file downloaded in the directory"
   ]
  },
  {
   "cell_type": "code",
   "execution_count": 2,
   "metadata": {},
   "outputs": [],
   "source": [
    "# Name of the zip file was found by inspecting the elements in our folder\n",
    "local_zipfile = \"netflix-shows.zip\"\n",
    "\n",
    "# Saving it to a new folder location with the name \"netflix-shows\"\n",
    "with ZipFile(local_zipfile, 'r') as zipObj:\n",
    "   # Extract all the contents of zip file in different directory\n",
    "   zipObj.extractall(local_zipfile[:-4]) "
   ]
  },
  {
   "cell_type": "markdown",
   "metadata": {},
   "source": [
    "> Now we have the data from the zip file extracted and saved in a location called `netflix-shows`. There is one csv file in this folder called `netflix_titles_nov_2019.csv`, let's turn this into a data frame so we can do some initial investigation into the data"
   ]
  },
  {
   "cell_type": "code",
   "execution_count": 3,
   "metadata": {},
   "outputs": [
    {
     "data": {
      "text/html": [
       "<div>\n",
       "<style scoped>\n",
       "    .dataframe tbody tr th:only-of-type {\n",
       "        vertical-align: middle;\n",
       "    }\n",
       "\n",
       "    .dataframe tbody tr th {\n",
       "        vertical-align: top;\n",
       "    }\n",
       "\n",
       "    .dataframe thead th {\n",
       "        text-align: right;\n",
       "    }\n",
       "</style>\n",
       "<table border=\"1\" class=\"dataframe\">\n",
       "  <thead>\n",
       "    <tr style=\"text-align: right;\">\n",
       "      <th></th>\n",
       "      <th>show_id</th>\n",
       "      <th>title</th>\n",
       "      <th>director</th>\n",
       "      <th>cast</th>\n",
       "      <th>country</th>\n",
       "      <th>date_added</th>\n",
       "      <th>release_year</th>\n",
       "      <th>rating</th>\n",
       "      <th>duration</th>\n",
       "      <th>listed_in</th>\n",
       "      <th>description</th>\n",
       "      <th>type</th>\n",
       "    </tr>\n",
       "  </thead>\n",
       "  <tbody>\n",
       "    <tr>\n",
       "      <th>0</th>\n",
       "      <td>81193313</td>\n",
       "      <td>Chocolate</td>\n",
       "      <td>NaN</td>\n",
       "      <td>Ha Ji-won, Yoon Kye-sang, Jang Seung-jo, Kang ...</td>\n",
       "      <td>South Korea</td>\n",
       "      <td>November 30, 2019</td>\n",
       "      <td>2019</td>\n",
       "      <td>TV-14</td>\n",
       "      <td>1 Season</td>\n",
       "      <td>International TV Shows, Korean TV Shows, Roman...</td>\n",
       "      <td>Brought together by meaningful meals in the pa...</td>\n",
       "      <td>TV Show</td>\n",
       "    </tr>\n",
       "    <tr>\n",
       "      <th>1</th>\n",
       "      <td>81197050</td>\n",
       "      <td>Guatemala: Heart of the Mayan World</td>\n",
       "      <td>Luis Ara, Ignacio Jaunsolo</td>\n",
       "      <td>Christian Morales</td>\n",
       "      <td>NaN</td>\n",
       "      <td>November 30, 2019</td>\n",
       "      <td>2019</td>\n",
       "      <td>TV-G</td>\n",
       "      <td>67 min</td>\n",
       "      <td>Documentaries, International Movies</td>\n",
       "      <td>From Sierra de las Minas to Esquipulas, explor...</td>\n",
       "      <td>Movie</td>\n",
       "    </tr>\n",
       "    <tr>\n",
       "      <th>2</th>\n",
       "      <td>81213894</td>\n",
       "      <td>The Zoya Factor</td>\n",
       "      <td>Abhishek Sharma</td>\n",
       "      <td>Sonam Kapoor, Dulquer Salmaan, Sanjay Kapoor, ...</td>\n",
       "      <td>India</td>\n",
       "      <td>November 30, 2019</td>\n",
       "      <td>2019</td>\n",
       "      <td>TV-14</td>\n",
       "      <td>135 min</td>\n",
       "      <td>Comedies, Dramas, International Movies</td>\n",
       "      <td>A goofy copywriter unwittingly convinces the I...</td>\n",
       "      <td>Movie</td>\n",
       "    </tr>\n",
       "    <tr>\n",
       "      <th>3</th>\n",
       "      <td>81082007</td>\n",
       "      <td>Atlantics</td>\n",
       "      <td>Mati Diop</td>\n",
       "      <td>Mama Sane, Amadou Mbow, Ibrahima Traore, Nicol...</td>\n",
       "      <td>France, Senegal, Belgium</td>\n",
       "      <td>November 29, 2019</td>\n",
       "      <td>2019</td>\n",
       "      <td>TV-14</td>\n",
       "      <td>106 min</td>\n",
       "      <td>Dramas, Independent Movies, International Movies</td>\n",
       "      <td>Arranged to marry a rich man, young Ada is cru...</td>\n",
       "      <td>Movie</td>\n",
       "    </tr>\n",
       "    <tr>\n",
       "      <th>4</th>\n",
       "      <td>80213643</td>\n",
       "      <td>Chip and Potato</td>\n",
       "      <td>NaN</td>\n",
       "      <td>Abigail Oliver, Andrea Libman, Briana Buckmast...</td>\n",
       "      <td>Canada, United Kingdom</td>\n",
       "      <td>NaN</td>\n",
       "      <td>2019</td>\n",
       "      <td>TV-Y</td>\n",
       "      <td>2 Seasons</td>\n",
       "      <td>Kids' TV</td>\n",
       "      <td>Lovable pug Chip starts kindergarten, makes ne...</td>\n",
       "      <td>TV Show</td>\n",
       "    </tr>\n",
       "  </tbody>\n",
       "</table>\n",
       "</div>"
      ],
      "text/plain": [
       "    show_id                                title                    director  \\\n",
       "0  81193313                            Chocolate                         NaN   \n",
       "1  81197050  Guatemala: Heart of the Mayan World  Luis Ara, Ignacio Jaunsolo   \n",
       "2  81213894                      The Zoya Factor             Abhishek Sharma   \n",
       "3  81082007                            Atlantics                   Mati Diop   \n",
       "4  80213643                      Chip and Potato                         NaN   \n",
       "\n",
       "                                                cast  \\\n",
       "0  Ha Ji-won, Yoon Kye-sang, Jang Seung-jo, Kang ...   \n",
       "1                                  Christian Morales   \n",
       "2  Sonam Kapoor, Dulquer Salmaan, Sanjay Kapoor, ...   \n",
       "3  Mama Sane, Amadou Mbow, Ibrahima Traore, Nicol...   \n",
       "4  Abigail Oliver, Andrea Libman, Briana Buckmast...   \n",
       "\n",
       "                    country         date_added  release_year rating  \\\n",
       "0               South Korea  November 30, 2019          2019  TV-14   \n",
       "1                       NaN  November 30, 2019          2019   TV-G   \n",
       "2                     India  November 30, 2019          2019  TV-14   \n",
       "3  France, Senegal, Belgium  November 29, 2019          2019  TV-14   \n",
       "4    Canada, United Kingdom                NaN          2019   TV-Y   \n",
       "\n",
       "    duration                                          listed_in  \\\n",
       "0   1 Season  International TV Shows, Korean TV Shows, Roman...   \n",
       "1     67 min                Documentaries, International Movies   \n",
       "2    135 min             Comedies, Dramas, International Movies   \n",
       "3    106 min   Dramas, Independent Movies, International Movies   \n",
       "4  2 Seasons                                           Kids' TV   \n",
       "\n",
       "                                         description     type  \n",
       "0  Brought together by meaningful meals in the pa...  TV Show  \n",
       "1  From Sierra de las Minas to Esquipulas, explor...    Movie  \n",
       "2  A goofy copywriter unwittingly convinces the I...    Movie  \n",
       "3  Arranged to marry a rich man, young Ada is cru...    Movie  \n",
       "4  Lovable pug Chip starts kindergarten, makes ne...  TV Show  "
      ]
     },
     "execution_count": 3,
     "metadata": {},
     "output_type": "execute_result"
    }
   ],
   "source": [
    "df = pd.read_csv('netflix-shows/netflix_titles_nov_2019.csv')\n",
    "df.head()"
   ]
  },
  {
   "cell_type": "markdown",
   "metadata": {},
   "source": [
    "<a id ='Inv'></a>\n",
    "## Initial Investingation"
   ]
  },
  {
   "cell_type": "code",
   "execution_count": 4,
   "metadata": {},
   "outputs": [
    {
     "data": {
      "text/plain": [
       "(5837, 12)"
      ]
     },
     "execution_count": 4,
     "metadata": {},
     "output_type": "execute_result"
    }
   ],
   "source": [
    "df.shape #relatively small dataset"
   ]
  },
  {
   "cell_type": "code",
   "execution_count": 5,
   "metadata": {},
   "outputs": [
    {
     "name": "stdout",
     "output_type": "stream",
     "text": [
      "<class 'pandas.core.frame.DataFrame'>\n",
      "RangeIndex: 5837 entries, 0 to 5836\n",
      "Data columns (total 12 columns):\n",
      "show_id         5837 non-null int64\n",
      "title           5837 non-null object\n",
      "director        3936 non-null object\n",
      "cast            5281 non-null object\n",
      "country         5410 non-null object\n",
      "date_added      5195 non-null object\n",
      "release_year    5837 non-null int64\n",
      "rating          5827 non-null object\n",
      "duration        5837 non-null object\n",
      "listed_in       5837 non-null object\n",
      "description     5837 non-null object\n",
      "type            5837 non-null object\n",
      "dtypes: int64(2), object(10)\n",
      "memory usage: 547.3+ KB\n"
     ]
    }
   ],
   "source": [
    "df.info() #Not too much missing info"
   ]
  },
  {
   "cell_type": "code",
   "execution_count": 6,
   "metadata": {},
   "outputs": [
    {
     "data": {
      "text/plain": [
       "Movie      3939\n",
       "TV Show    1898\n",
       "Name: type, dtype: int64"
      ]
     },
     "execution_count": 6,
     "metadata": {},
     "output_type": "execute_result"
    }
   ],
   "source": [
    "df['type'].value_counts()"
   ]
  },
  {
   "cell_type": "code",
   "execution_count": 7,
   "metadata": {},
   "outputs": [
    {
     "name": "stdout",
     "output_type": "stream",
     "text": [
      "There are 527 countries with netflix shows/movies\n"
     ]
    }
   ],
   "source": [
    "print('There are ' + str(len(df['country'].value_counts().index.tolist())) + ' countries with netflix shows/movies')"
   ]
  },
  {
   "cell_type": "markdown",
   "metadata": {},
   "source": [
    "<a id='Q1'></a>\n",
    "## Question 1\n",
    "\n",
    "What content is available in different countries? (Tv shows vs. movies)\n",
    "* To answer this let's only look at countries that have more than 5 netflix shows/movies; there were a lot of countries with only 1 put out"
   ]
  },
  {
   "cell_type": "code",
   "execution_count": 182,
   "metadata": {},
   "outputs": [
    {
     "data": {
      "text/html": [
       "<div>\n",
       "<style scoped>\n",
       "    .dataframe tbody tr th:only-of-type {\n",
       "        vertical-align: middle;\n",
       "    }\n",
       "\n",
       "    .dataframe tbody tr th {\n",
       "        vertical-align: top;\n",
       "    }\n",
       "\n",
       "    .dataframe thead th {\n",
       "        text-align: right;\n",
       "    }\n",
       "</style>\n",
       "<table border=\"1\" class=\"dataframe\">\n",
       "  <thead>\n",
       "    <tr style=\"text-align: right;\">\n",
       "      <th></th>\n",
       "      <th>show_id</th>\n",
       "      <th>country</th>\n",
       "      <th>type</th>\n",
       "    </tr>\n",
       "  </thead>\n",
       "  <tbody>\n",
       "    <tr>\n",
       "      <th>0</th>\n",
       "      <td>81193313</td>\n",
       "      <td>South Korea</td>\n",
       "      <td>TV Show</td>\n",
       "    </tr>\n",
       "    <tr>\n",
       "      <th>2</th>\n",
       "      <td>81213894</td>\n",
       "      <td>India</td>\n",
       "      <td>Movie</td>\n",
       "    </tr>\n",
       "    <tr>\n",
       "      <th>3</th>\n",
       "      <td>81082007</td>\n",
       "      <td>France, Senegal, Belgium</td>\n",
       "      <td>Movie</td>\n",
       "    </tr>\n",
       "    <tr>\n",
       "      <th>4</th>\n",
       "      <td>80213643</td>\n",
       "      <td>Canada, United Kingdom</td>\n",
       "      <td>TV Show</td>\n",
       "    </tr>\n",
       "    <tr>\n",
       "      <th>5</th>\n",
       "      <td>81172754</td>\n",
       "      <td>Nigeria</td>\n",
       "      <td>Movie</td>\n",
       "    </tr>\n",
       "  </tbody>\n",
       "</table>\n",
       "</div>"
      ],
      "text/plain": [
       "    show_id                   country     type\n",
       "0  81193313               South Korea  TV Show\n",
       "2  81213894                     India    Movie\n",
       "3  81082007  France, Senegal, Belgium    Movie\n",
       "4  80213643    Canada, United Kingdom  TV Show\n",
       "5  81172754                   Nigeria    Movie"
      ]
     },
     "execution_count": 182,
     "metadata": {},
     "output_type": "execute_result"
    }
   ],
   "source": [
    "# Making a copy to mess around with. Drop irrelevant columns and rows with Null values for the country.\n",
    "countries_df = df.copy()\n",
    "column_list = ['title', 'director', 'cast', 'date_added', 'release_year', 'rating', 'duration', 'listed_in', 'description']\n",
    "countries_df = countries_df.drop(column_list, axis = 1)\n",
    "countries_df = countries_df[countries_df['country'].notnull()]\n",
    "countries_df.head()"
   ]
  },
  {
   "cell_type": "code",
   "execution_count": 212,
   "metadata": {},
   "outputs": [
    {
     "data": {
      "text/html": [
       "<div>\n",
       "<style scoped>\n",
       "    .dataframe tbody tr th:only-of-type {\n",
       "        vertical-align: middle;\n",
       "    }\n",
       "\n",
       "    .dataframe tbody tr th {\n",
       "        vertical-align: top;\n",
       "    }\n",
       "\n",
       "    .dataframe thead th {\n",
       "        text-align: right;\n",
       "    }\n",
       "</style>\n",
       "<table border=\"1\" class=\"dataframe\">\n",
       "  <thead>\n",
       "    <tr style=\"text-align: right;\">\n",
       "      <th></th>\n",
       "      <th>show_id</th>\n",
       "      <th>0</th>\n",
       "    </tr>\n",
       "  </thead>\n",
       "  <tbody>\n",
       "    <tr>\n",
       "      <th>0</th>\n",
       "      <td>81193313</td>\n",
       "      <td>South Korea</td>\n",
       "    </tr>\n",
       "    <tr>\n",
       "      <th>1</th>\n",
       "      <td>81213894</td>\n",
       "      <td>India</td>\n",
       "    </tr>\n",
       "    <tr>\n",
       "      <th>2</th>\n",
       "      <td>81082007</td>\n",
       "      <td>France</td>\n",
       "    </tr>\n",
       "    <tr>\n",
       "      <th>3</th>\n",
       "      <td>81082007</td>\n",
       "      <td>Senegal</td>\n",
       "    </tr>\n",
       "    <tr>\n",
       "      <th>4</th>\n",
       "      <td>81082007</td>\n",
       "      <td>Belgium</td>\n",
       "    </tr>\n",
       "  </tbody>\n",
       "</table>\n",
       "</div>"
      ],
      "text/plain": [
       "    show_id            0\n",
       "0  81193313  South Korea\n",
       "1  81213894        India\n",
       "2  81082007       France\n",
       "3  81082007      Senegal\n",
       "4  81082007      Belgium"
      ]
     },
     "execution_count": 212,
     "metadata": {},
     "output_type": "execute_result"
    }
   ],
   "source": [
    "# For entries with multiple countries for a production, we want to give every country credit for this. Lets divide\n",
    "# up the entries with multiple countries into multiple rows\n",
    "country_df = pd.DataFrame(countries_df.country.str.split(',').tolist(), index=countries_df.show_id).stack()\n",
    "country_df = country_df.reset_index([0, 'show_id'])\n",
    "country_df.head()\n",
    "\n",
    "\n",
    "# Unfortunately splitting up the string caused issues with white spaces. This next block was designed to deal with\n",
    "# making \" USA\" turn into \"USA\" for example\n",
    "clean_country_list = []\n",
    "full_list = countries_df.country.str.split(',').tolist()\n",
    "for i in full_list:\n",
    "    for ii in i:\n",
    "        j = ii.strip()\n",
    "        clean_country_list.append(j)\n",
    "\n",
    "# Replacing the country list with \n",
    "country_df[0] = clean_country_list\n",
    "country_df.head()"
   ]
  },
  {
   "cell_type": "code",
   "execution_count": 213,
   "metadata": {},
   "outputs": [
    {
     "data": {
      "text/html": [
       "<div>\n",
       "<style scoped>\n",
       "    .dataframe tbody tr th:only-of-type {\n",
       "        vertical-align: middle;\n",
       "    }\n",
       "\n",
       "    .dataframe tbody tr th {\n",
       "        vertical-align: top;\n",
       "    }\n",
       "\n",
       "    .dataframe thead th {\n",
       "        text-align: right;\n",
       "    }\n",
       "</style>\n",
       "<table border=\"1\" class=\"dataframe\">\n",
       "  <thead>\n",
       "    <tr style=\"text-align: right;\">\n",
       "      <th></th>\n",
       "      <th>country</th>\n",
       "      <th>type</th>\n",
       "    </tr>\n",
       "  </thead>\n",
       "  <tbody>\n",
       "    <tr>\n",
       "      <th>0</th>\n",
       "      <td>South Korea</td>\n",
       "      <td>TV Show</td>\n",
       "    </tr>\n",
       "    <tr>\n",
       "      <th>1</th>\n",
       "      <td>India</td>\n",
       "      <td>Movie</td>\n",
       "    </tr>\n",
       "    <tr>\n",
       "      <th>2</th>\n",
       "      <td>France</td>\n",
       "      <td>Movie</td>\n",
       "    </tr>\n",
       "    <tr>\n",
       "      <th>3</th>\n",
       "      <td>Senegal</td>\n",
       "      <td>Movie</td>\n",
       "    </tr>\n",
       "    <tr>\n",
       "      <th>4</th>\n",
       "      <td>Belgium</td>\n",
       "      <td>Movie</td>\n",
       "    </tr>\n",
       "    <tr>\n",
       "      <th>5</th>\n",
       "      <td>Canada</td>\n",
       "      <td>TV Show</td>\n",
       "    </tr>\n",
       "    <tr>\n",
       "      <th>6</th>\n",
       "      <td>United Kingdom</td>\n",
       "      <td>TV Show</td>\n",
       "    </tr>\n",
       "    <tr>\n",
       "      <th>7</th>\n",
       "      <td>Nigeria</td>\n",
       "      <td>Movie</td>\n",
       "    </tr>\n",
       "    <tr>\n",
       "      <th>8</th>\n",
       "      <td>France</td>\n",
       "      <td>Movie</td>\n",
       "    </tr>\n",
       "    <tr>\n",
       "      <th>9</th>\n",
       "      <td>South Africa</td>\n",
       "      <td>Movie</td>\n",
       "    </tr>\n",
       "  </tbody>\n",
       "</table>\n",
       "</div>"
      ],
      "text/plain": [
       "          country     type\n",
       "0     South Korea  TV Show\n",
       "1           India    Movie\n",
       "2          France    Movie\n",
       "3         Senegal    Movie\n",
       "4         Belgium    Movie\n",
       "5          Canada  TV Show\n",
       "6  United Kingdom  TV Show\n",
       "7         Nigeria    Movie\n",
       "8          France    Movie\n",
       "9    South Africa    Movie"
      ]
     },
     "execution_count": 213,
     "metadata": {},
     "output_type": "execute_result"
    }
   ],
   "source": [
    "# Now we want to join the movie type to this table. A simple merge will do, drop the extra country column,\n",
    "# and rename the '0' column to country for more clarity\n",
    "country_count_df = pd.merge(country_df, countries_df, left_on='show_id', right_on='show_id', how='left').drop('country', axis = 1).rename(columns={0: \"country\"})\n",
    "plot_country_df = country_count_df.drop('show_id', axis = 1)\n",
    "plot_country_df.head(10)"
   ]
  },
  {
   "cell_type": "code",
   "execution_count": 214,
   "metadata": {},
   "outputs": [
    {
     "name": "stdout",
     "output_type": "stream",
     "text": [
      "Sadly there are still 55 countries with over 5 productions so let's try 50.\n",
      "\n",
      "There are 12 countries with 100 productions or more. Let's use only these countries\n"
     ]
    }
   ],
   "source": [
    "# Now lets only keep countries with at least 10 productions\n",
    "g = len(plot_country_df.groupby('country').filter(lambda x: len(x) >= 5).country.value_counts().index.tolist())\n",
    "print('Sadly there are still ' + str(g) + ' countries with over 5 productions so let\\'s try 50.\\n')\n",
    "\n",
    "g2 = len(plot_country_df.groupby('country').filter(lambda x: len(x) >= 100).country.value_counts().index.tolist())\n",
    "print('There are ' + str(g2) + ' countries with 100 productions or more. Let\\'s use only these countries')\n",
    "\n",
    "# Just to compare, lets take the top producing countries and the \"middle\" producing countries (at least 20 productions)\n",
    "top_countries = plot_country_df.groupby('country').filter(lambda x: len(x) >= 100).country.value_counts().index.tolist()\n",
    "middle_countries = plot_country_df.groupby('country').filter(lambda x: len(x) >= 20).country.value_counts().index.tolist()[-10:]\n"
   ]
  },
  {
   "cell_type": "code",
   "execution_count": 215,
   "metadata": {},
   "outputs": [
    {
     "data": {
      "image/png": "[encoded data removed]",
      "text/plain": [
       "<Figure size 1080x432 with 1 Axes>"
      ]
     },
     "metadata": {
      "needs_background": "light"
     },
     "output_type": "display_data"
    },
    {
     "data": {
      "image/png": "[encoded data removed]",
      "text/plain": [
       "<Figure size 1080x432 with 1 Axes>"
      ]
     },
     "metadata": {
      "needs_background": "light"
     },
     "output_type": "display_data"
    }
   ],
   "source": [
    "# Now we can make some visuals to see this data\n",
    "base_color = sb.color_palette()[0]\n",
    "\n",
    "top_country_count_df = country_count_df[country_count_df['country'].isin(top_countries)]\n",
    "middle_country_count_df = country_count_df[country_count_df['country'].isin(middle_countries)]\n",
    "\n",
    "plt.figure(figsize = (15,6))\n",
    "palette ={\"TV Show\":\"C0\",\"Movie\":\"C1\"}\n",
    "sb.countplot(data = top_country_count_df, x = 'country', hue = 'type', palette=palette);\n",
    "plt.xlabel('Country');\n",
    "plt.title('Top Countries Distribution');\n",
    "plt.figure(figsize = (15,6))\n",
    "sb.countplot(data = middle_country_count_df, x = 'country', hue = 'type', palette=palette);\n",
    "plt.xlabel('Country');\n",
    "plt.title('Middle Countries Distribution');"
   ]
  },
  {
   "cell_type": "markdown",
   "metadata": {},
   "source": [
    "> Thus as we can tell, <b> pretty much universally all these countries have more movies than TV shows!</b> That's honestly not what I was expecting considering I mainly use netflix for TV shows. However this categorization does not take into account other categories like for example stand up comedians. I believe that would not necessarily fall into either of these categories and yet they must have been classified in one of the two somehow"
   ]
  },
  {
   "cell_type": "markdown",
   "metadata": {},
   "source": [
    "<a id='Q2'></a>\n",
    "## Question 2\n",
    "\n",
    "Understanding how the number of TV shows and Movies on netflix has changed over time\n",
    "\n",
    "> In order to do this we can first have to bin the data into time bins and then we can track how the movies/tv prodction has changed over time"
   ]
  },
  {
   "cell_type": "code",
   "execution_count": 216,
   "metadata": {},
   "outputs": [
    {
     "name": "stderr",
     "output_type": "stream",
     "text": [
      "/anaconda3/lib/python3.7/site-packages/ipykernel_launcher.py:3: SettingWithCopyWarning: \n",
      "A value is trying to be set on a copy of a slice from a DataFrame.\n",
      "Try using .loc[row_indexer,col_indexer] = value instead\n",
      "\n",
      "See the caveats in the documentation: http://pandas.pydata.org/pandas-docs/stable/indexing.html#indexing-view-versus-copy\n",
      "  This is separate from the ipykernel package so we can avoid doing imports until\n",
      "/anaconda3/lib/python3.7/site-packages/ipykernel_launcher.py:5: SettingWithCopyWarning: \n",
      "A value is trying to be set on a copy of a slice from a DataFrame.\n",
      "Try using .loc[row_indexer,col_indexer] = value instead\n",
      "\n",
      "See the caveats in the documentation: http://pandas.pydata.org/pandas-docs/stable/indexing.html#indexing-view-versus-copy\n",
      "  \"\"\"\n"
     ]
    },
    {
     "data": {
      "text/html": [
       "<div>\n",
       "<style scoped>\n",
       "    .dataframe tbody tr th:only-of-type {\n",
       "        vertical-align: middle;\n",
       "    }\n",
       "\n",
       "    .dataframe tbody tr th {\n",
       "        vertical-align: top;\n",
       "    }\n",
       "\n",
       "    .dataframe thead th {\n",
       "        text-align: right;\n",
       "    }\n",
       "</style>\n",
       "<table border=\"1\" class=\"dataframe\">\n",
       "  <thead>\n",
       "    <tr style=\"text-align: right;\">\n",
       "      <th></th>\n",
       "      <th>show_id</th>\n",
       "      <th>date_added</th>\n",
       "      <th>rating</th>\n",
       "      <th>type</th>\n",
       "      <th>year_added</th>\n",
       "    </tr>\n",
       "  </thead>\n",
       "  <tbody>\n",
       "    <tr>\n",
       "      <th>0</th>\n",
       "      <td>81193313</td>\n",
       "      <td>2019-11-30</td>\n",
       "      <td>TV-14</td>\n",
       "      <td>TV Show</td>\n",
       "      <td>2019</td>\n",
       "    </tr>\n",
       "    <tr>\n",
       "      <th>1</th>\n",
       "      <td>81197050</td>\n",
       "      <td>2019-11-30</td>\n",
       "      <td>TV-G</td>\n",
       "      <td>Movie</td>\n",
       "      <td>2019</td>\n",
       "    </tr>\n",
       "    <tr>\n",
       "      <th>2</th>\n",
       "      <td>81213894</td>\n",
       "      <td>2019-11-30</td>\n",
       "      <td>TV-14</td>\n",
       "      <td>Movie</td>\n",
       "      <td>2019</td>\n",
       "    </tr>\n",
       "    <tr>\n",
       "      <th>3</th>\n",
       "      <td>81082007</td>\n",
       "      <td>2019-11-29</td>\n",
       "      <td>TV-14</td>\n",
       "      <td>Movie</td>\n",
       "      <td>2019</td>\n",
       "    </tr>\n",
       "    <tr>\n",
       "      <th>5</th>\n",
       "      <td>81172754</td>\n",
       "      <td>2019-11-29</td>\n",
       "      <td>TV-14</td>\n",
       "      <td>Movie</td>\n",
       "      <td>2019</td>\n",
       "    </tr>\n",
       "  </tbody>\n",
       "</table>\n",
       "</div>"
      ],
      "text/plain": [
       "    show_id date_added rating     type  year_added\n",
       "0  81193313 2019-11-30  TV-14  TV Show        2019\n",
       "1  81197050 2019-11-30   TV-G    Movie        2019\n",
       "2  81213894 2019-11-30  TV-14    Movie        2019\n",
       "3  81082007 2019-11-29  TV-14    Movie        2019\n",
       "5  81172754 2019-11-29  TV-14    Movie        2019"
      ]
     },
     "execution_count": 216,
     "metadata": {},
     "output_type": "execute_result"
    }
   ],
   "source": [
    "# Let's first make a copy of the originial data frame with\n",
    "date_df = df[df.date_added.isnull() == False]\n",
    "date_df['date_added'] = pd.to_datetime(date_df.date_added);\n",
    "\n",
    "date_df['year_added'] = date_df.date_added.dt.year;\n",
    "drop_list = ['title', 'director', 'cast', 'country', 'release_year', 'duration', 'listed_in', 'description']\n",
    "date_df = date_df.drop(drop_list,axis = 1)\n",
    "date_df.head()"
   ]
  },
  {
   "cell_type": "code",
   "execution_count": 217,
   "metadata": {},
   "outputs": [
    {
     "name": "stdout",
     "output_type": "stream",
     "text": [
      "\n",
      "We see that the number of movies released every year has been skyrocketing ahead of the number of TV shows released ever since 2014-2015\n"
     ]
    },
    {
     "data": {
      "image/png": "[encoded data removed]",
      "text/plain": [
       "<Figure size 792x360 with 1 Axes>"
      ]
     },
     "metadata": {
      "needs_background": "light"
     },
     "output_type": "display_data"
    }
   ],
   "source": [
    "# Now let's first plot how the TV show type has changed over the years, plotting year_added along the x-axis\n",
    "plt.figure(figsize = (11,5))\n",
    "sb.countplot(data = date_df, x = 'year_added', hue = 'type');\n",
    "plt.title('TV show and Movie releases on Netflix over time');\n",
    "plt.xlabel('Year Added');\n",
    "\n",
    "print('\\nWe see that the number of movies released every year has been skyrocketing ahead of the number of TV shows released ever since 2014-2015')\n"
   ]
  },
  {
   "cell_type": "code",
   "execution_count": 218,
   "metadata": {},
   "outputs": [
    {
     "data": {
      "image/png": "[encoded data removed]",
      "text/plain": [
       "<Figure size 792x360 with 1 Axes>"
      ]
     },
     "metadata": {
      "needs_background": "light"
     },
     "output_type": "display_data"
    },
    {
     "data": {
      "image/png": "[encoded data removed]",
      "text/plain": [
       "<Figure size 792x504 with 1 Axes>"
      ]
     },
     "metadata": {
      "needs_background": "light"
     },
     "output_type": "display_data"
    }
   ],
   "source": [
    "# Now let's look at how the rating of movies has changed over the years\n",
    "\n",
    "# Only look at years past 2015\n",
    "onwards2015_df = date_df[date_df['year_added'].isin([2015,2016,2017,2018,2019])]\n",
    "# Only look at common ratings.\n",
    "ratings =['TV-MA', 'TV-14','TV-PG','R','PG-13','NR','PG', 'TV-G', 'TV-Y7','G']\n",
    "onwards2015_df = onwards2015_df[onwards2015_df['rating'].isin(ratings)]\n",
    "\n",
    "# Used to make sure the palette stays consistent between both plots\n",
    "palette ={\"TV-MA\":\"C0\",\"TV-14\":\"C1\", \"TV-PG\":\"C2\", \"R\":\"C3\", \"PG-13\":\"C4\", \"NR\":\"C5\", \"PG\":\"C6\",\n",
    "         \"TV-G\":\"C7\", \"TV-Y7\":\"C8\", \"G\":\"C9\"}\n",
    "\n",
    "\n",
    "plt.figure(figsize = (11,5))\n",
    "sb.countplot(data = onwards2015_df, x = 'year_added', hue = 'rating', palette = palette);\n",
    "plt.title('Ratings of Movies/TV shows on Netflix over time');\n",
    "plt.xlabel('Year Added');\n",
    "plt.legend( loc = 'upper left')\n",
    "\n",
    "# Let's get this in a percentage format\n",
    "occupation_counts = (onwards2015_df.groupby(['year_added'])['rating']\n",
    "                     .value_counts(normalize=True)\n",
    "                     .rename('percentage')\n",
    "                     .mul(100)\n",
    "                     .reset_index()\n",
    "                     .sort_values('rating'))\n",
    "plt.figure(figsize = (11,7))\n",
    "sb.barplot(x = \"year_added\", y =\"percentage\", hue=\"rating\", data=occupation_counts, palette = palette)\n",
    "plt.legend( loc = 'best')\n",
    "plt.xlabel('Year Added');\n"
   ]
  },
  {
   "cell_type": "markdown",
   "metadata": {},
   "source": [
    "> As the second plot shows <b>we've been trending towards a more stable percentage output of ratings for movies and TV shows</b>. The difference between 2017-2019 is negligable with the only significant difference being the percentage of movies with no ratings. The number of movies without ratings (NR) is on a steady downwards trend, as Netflix likely is trying to help out all of its users and add as many details as possible about the porduction as they possibly can to the user."
   ]
  },
  {
   "cell_type": "markdown",
   "metadata": {},
   "source": [
    "<a id = 'Q3'></a>\n",
    "## Question 3\n",
    "\n",
    "Now let's see if we can recommend similar movies"
   ]
  },
  {
   "cell_type": "markdown",
   "metadata": {},
   "source": [
    "<b> There are a few things we need to in order to achieve this</b>\n",
    "* Create a `tokenize` function\n",
    ">This should be able to take in any string of text, separate the string into a list of words, break each down into the lematized version of the word, remove stop words from the list, and finally make sure that each remaining \"word\" is in fact a word and not a number\n",
    "\n",
    "* Creat a `make_recs` function\n",
    "> This should be able to take in all of the tokenized data and a singular movie id and based off the movie id determine the top movies or shows based off the comminality of the words in their descriptions\n",
    "    - <u>Input:</u> movie_id, dataset, number of recs to be returned\n",
    "    - <u>Output:</u> list of recommended movies/shows\n"
   ]
  },
  {
   "cell_type": "code",
   "execution_count": 219,
   "metadata": {},
   "outputs": [
    {
     "name": "stderr",
     "output_type": "stream",
     "text": [
      "[nltk_data] Downloading package punkt to /Users/vikram/nltk_data...\n",
      "[nltk_data]   Package punkt is already up-to-date!\n",
      "[nltk_data] Downloading package wordnet to /Users/vikram/nltk_data...\n",
      "[nltk_data]   Package wordnet is already up-to-date!\n",
      "[nltk_data] Downloading package stopwords to\n",
      "[nltk_data]     /Users/vikram/nltk_data...\n",
      "[nltk_data]   Package stopwords is already up-to-date!\n",
      "[nltk_data] Downloading package abc to /Users/vikram/nltk_data...\n",
      "[nltk_data]   Package abc is already up-to-date!\n"
     ]
    }
   ],
   "source": [
    "import nltk\n",
    "nltk.download('punkt')\n",
    "nltk.download('wordnet')\n",
    "nltk.download('stopwords')\n",
    "nltk.download('abc')\n",
    "\n",
    "\n",
    "from nltk.tokenize import word_tokenize\n",
    "from nltk.tokenize import sent_tokenize\n",
    "from nltk.stem import WordNetLemmatizer\n",
    "from nltk.corpus import stopwords"
   ]
  },
  {
   "cell_type": "code",
   "execution_count": 220,
   "metadata": {},
   "outputs": [],
   "source": [
    "# Creat tokenizer function\n",
    "def tokenize(x):\n",
    "    \n",
    "    # Generating list of stop words\n",
    "    stop_words = set(stopwords.words('english'))\n",
    "    \n",
    "    # Separate sentance into individual words\n",
    "    no_punctuation_x = re.sub(r\"[^a-zA-Z0-9]\",\" \", x)\n",
    "    word_token = word_tokenize(no_punctuation_x)\n",
    "\n",
    "    # Lemmatizing each word and added cleaned words to clean_words\n",
    "    lemmatizer = WordNetLemmatizer()\n",
    "    clean_words = []\n",
    "    for word in word_token:\n",
    "        clean_words.append(lemmatizer.lemmatize(word.lower().strip()))\n",
    "\n",
    "    # Return lematized words that are indeed words and are not in stopwords list\n",
    "    final_token = [w for w in clean_words if w not in stop_words]\n",
    "    return final_token"
   ]
  },
  {
   "cell_type": "code",
   "execution_count": 221,
   "metadata": {},
   "outputs": [
    {
     "data": {
      "text/plain": [
       "['dummy',\n",
       " 'example',\n",
       " 'string',\n",
       " 'tbh',\n",
       " 'got',\n",
       " 'nothing',\n",
       " 'run',\n",
       " 'fast',\n",
       " 'super',\n",
       " 'duper',\n",
       " 'fast',\n",
       " 's20',\n",
       " 'injector',\n",
       " 'beam',\n",
       " 'bc2']"
      ]
     },
     "execution_count": 221,
     "metadata": {},
     "output_type": "execute_result"
    }
   ],
   "source": [
    "# Testing tokenize function\n",
    "x = \"Dummy example string because tBh I got nothing. I run fAst, super duper very fast. S20 injector beam to BC2.\"\n",
    "tokenize(x)"
   ]
  },
  {
   "cell_type": "markdown",
   "metadata": {},
   "source": [
    "> First way to tackle this problem is using a simple value counts method. Probably not the best but gets our feet off the ground"
   ]
  },
  {
   "cell_type": "code",
   "execution_count": 222,
   "metadata": {},
   "outputs": [
    {
     "data": {
      "text/html": [
       "<div>\n",
       "<style scoped>\n",
       "    .dataframe tbody tr th:only-of-type {\n",
       "        vertical-align: middle;\n",
       "    }\n",
       "\n",
       "    .dataframe tbody tr th {\n",
       "        vertical-align: top;\n",
       "    }\n",
       "\n",
       "    .dataframe thead th {\n",
       "        text-align: right;\n",
       "    }\n",
       "</style>\n",
       "<table border=\"1\" class=\"dataframe\">\n",
       "  <thead>\n",
       "    <tr style=\"text-align: right;\">\n",
       "      <th></th>\n",
       "      <th>show_id</th>\n",
       "      <th>title</th>\n",
       "      <th>director</th>\n",
       "      <th>cast</th>\n",
       "      <th>country</th>\n",
       "      <th>description</th>\n",
       "    </tr>\n",
       "  </thead>\n",
       "  <tbody>\n",
       "    <tr>\n",
       "      <th>0</th>\n",
       "      <td>81193313</td>\n",
       "      <td>Chocolate</td>\n",
       "      <td>NaN</td>\n",
       "      <td>Ha Ji-won, Yoon Kye-sang, Jang Seung-jo, Kang ...</td>\n",
       "      <td>South Korea</td>\n",
       "      <td>Brought together by meaningful meals in the pa...</td>\n",
       "    </tr>\n",
       "    <tr>\n",
       "      <th>1</th>\n",
       "      <td>81197050</td>\n",
       "      <td>Guatemala: Heart of the Mayan World</td>\n",
       "      <td>Luis Ara, Ignacio Jaunsolo</td>\n",
       "      <td>Christian Morales</td>\n",
       "      <td>NaN</td>\n",
       "      <td>From Sierra de las Minas to Esquipulas, explor...</td>\n",
       "    </tr>\n",
       "    <tr>\n",
       "      <th>2</th>\n",
       "      <td>81213894</td>\n",
       "      <td>The Zoya Factor</td>\n",
       "      <td>Abhishek Sharma</td>\n",
       "      <td>Sonam Kapoor, Dulquer Salmaan, Sanjay Kapoor, ...</td>\n",
       "      <td>India</td>\n",
       "      <td>A goofy copywriter unwittingly convinces the I...</td>\n",
       "    </tr>\n",
       "    <tr>\n",
       "      <th>3</th>\n",
       "      <td>81082007</td>\n",
       "      <td>Atlantics</td>\n",
       "      <td>Mati Diop</td>\n",
       "      <td>Mama Sane, Amadou Mbow, Ibrahima Traore, Nicol...</td>\n",
       "      <td>France, Senegal, Belgium</td>\n",
       "      <td>Arranged to marry a rich man, young Ada is cru...</td>\n",
       "    </tr>\n",
       "    <tr>\n",
       "      <th>4</th>\n",
       "      <td>80213643</td>\n",
       "      <td>Chip and Potato</td>\n",
       "      <td>NaN</td>\n",
       "      <td>Abigail Oliver, Andrea Libman, Briana Buckmast...</td>\n",
       "      <td>Canada, United Kingdom</td>\n",
       "      <td>Lovable pug Chip starts kindergarten, makes ne...</td>\n",
       "    </tr>\n",
       "  </tbody>\n",
       "</table>\n",
       "</div>"
      ],
      "text/plain": [
       "    show_id                                title                    director  \\\n",
       "0  81193313                            Chocolate                         NaN   \n",
       "1  81197050  Guatemala: Heart of the Mayan World  Luis Ara, Ignacio Jaunsolo   \n",
       "2  81213894                      The Zoya Factor             Abhishek Sharma   \n",
       "3  81082007                            Atlantics                   Mati Diop   \n",
       "4  80213643                      Chip and Potato                         NaN   \n",
       "\n",
       "                                                cast  \\\n",
       "0  Ha Ji-won, Yoon Kye-sang, Jang Seung-jo, Kang ...   \n",
       "1                                  Christian Morales   \n",
       "2  Sonam Kapoor, Dulquer Salmaan, Sanjay Kapoor, ...   \n",
       "3  Mama Sane, Amadou Mbow, Ibrahima Traore, Nicol...   \n",
       "4  Abigail Oliver, Andrea Libman, Briana Buckmast...   \n",
       "\n",
       "                    country                                        description  \n",
       "0               South Korea  Brought together by meaningful meals in the pa...  \n",
       "1                       NaN  From Sierra de las Minas to Esquipulas, explor...  \n",
       "2                     India  A goofy copywriter unwittingly convinces the I...  \n",
       "3  France, Senegal, Belgium  Arranged to marry a rich man, young Ada is cru...  \n",
       "4    Canada, United Kingdom  Lovable pug Chip starts kindergarten, makes ne...  "
      ]
     },
     "execution_count": 222,
     "metadata": {},
     "output_type": "execute_result"
    }
   ],
   "source": [
    "# Making a copy to mess around with. Drop irrelevant columns and rows with Null values for the country.\n",
    "nltk_df = df.copy()\n",
    "column_list = ['date_added', 'release_year', 'rating', 'duration', 'listed_in', 'type']\n",
    "nltk_df = nltk_df.drop(column_list, axis = 1)\n",
    "nltk_df.head()"
   ]
  },
  {
   "cell_type": "code",
   "execution_count": 223,
   "metadata": {},
   "outputs": [
    {
     "data": {
      "text/html": [
       "<div>\n",
       "<style scoped>\n",
       "    .dataframe tbody tr th:only-of-type {\n",
       "        vertical-align: middle;\n",
       "    }\n",
       "\n",
       "    .dataframe tbody tr th {\n",
       "        vertical-align: top;\n",
       "    }\n",
       "\n",
       "    .dataframe thead th {\n",
       "        text-align: right;\n",
       "    }\n",
       "</style>\n",
       "<table border=\"1\" class=\"dataframe\">\n",
       "  <thead>\n",
       "    <tr style=\"text-align: right;\">\n",
       "      <th></th>\n",
       "      <th>show_id</th>\n",
       "      <th>title</th>\n",
       "      <th>description</th>\n",
       "    </tr>\n",
       "  </thead>\n",
       "  <tbody>\n",
       "    <tr>\n",
       "      <th>0</th>\n",
       "      <td>81193313</td>\n",
       "      <td>Chocolate</td>\n",
       "      <td>Brought together by meaningful meals in the pa...</td>\n",
       "    </tr>\n",
       "    <tr>\n",
       "      <th>1</th>\n",
       "      <td>81197050</td>\n",
       "      <td>Guatemala: Heart of the Mayan World</td>\n",
       "      <td>From Sierra de las Minas to Esquipulas, explor...</td>\n",
       "    </tr>\n",
       "    <tr>\n",
       "      <th>2</th>\n",
       "      <td>81213894</td>\n",
       "      <td>The Zoya Factor</td>\n",
       "      <td>A goofy copywriter unwittingly convinces the I...</td>\n",
       "    </tr>\n",
       "    <tr>\n",
       "      <th>3</th>\n",
       "      <td>81082007</td>\n",
       "      <td>Atlantics</td>\n",
       "      <td>Arranged to marry a rich man, young Ada is cru...</td>\n",
       "    </tr>\n",
       "    <tr>\n",
       "      <th>4</th>\n",
       "      <td>80213643</td>\n",
       "      <td>Chip and Potato</td>\n",
       "      <td>Lovable pug Chip starts kindergarten, makes ne...</td>\n",
       "    </tr>\n",
       "  </tbody>\n",
       "</table>\n",
       "</div>"
      ],
      "text/plain": [
       "    show_id                                title  \\\n",
       "0  81193313                            Chocolate   \n",
       "1  81197050  Guatemala: Heart of the Mayan World   \n",
       "2  81213894                      The Zoya Factor   \n",
       "3  81082007                            Atlantics   \n",
       "4  80213643                      Chip and Potato   \n",
       "\n",
       "                                         description  \n",
       "0  Brought together by meaningful meals in the pa...  \n",
       "1  From Sierra de las Minas to Esquipulas, explor...  \n",
       "2  A goofy copywriter unwittingly convinces the I...  \n",
       "3  Arranged to marry a rich man, young Ada is cru...  \n",
       "4  Lovable pug Chip starts kindergarten, makes ne...  "
      ]
     },
     "execution_count": 223,
     "metadata": {},
     "output_type": "execute_result"
    }
   ],
   "source": [
    "# Initially let's just work with the description column. (Keep title, description, and show_id)\n",
    "desc_df = nltk_df.copy()\n",
    "column_list = ['director', 'cast', 'country']\n",
    "desc_df = desc_df.drop(column_list, axis = 1)\n",
    "desc_df.head()"
   ]
  },
  {
   "cell_type": "code",
   "execution_count": 224,
   "metadata": {},
   "outputs": [],
   "source": [
    "#tokenize the words in each article title\n",
    "description_words=[]\n",
    "tokenized = tokenize(desc_df['description'].str.cat(sep=' '))\n",
    "description_words.extend(tokenized)\n",
    "#description_words"
   ]
  },
  {
   "cell_type": "code",
   "execution_count": 225,
   "metadata": {},
   "outputs": [
    {
     "data": {
      "text/plain": [
       "86052"
      ]
     },
     "execution_count": 225,
     "metadata": {},
     "output_type": "execute_result"
    }
   ],
   "source": [
    "len(description_words) #quite hefty!"
   ]
  },
  {
   "cell_type": "code",
   "execution_count": 226,
   "metadata": {},
   "outputs": [
    {
     "data": {
      "text/plain": [
       "108"
      ]
     },
     "execution_count": 226,
     "metadata": {},
     "output_type": "execute_result"
    }
   ],
   "source": [
    "country_list = country_df[0].value_counts().index.tolist()\n",
    "country_list.remove('') # There is a blank country.. Not sure why that is but this will removie that\n",
    "#country_list\n",
    "len(country_list)"
   ]
  },
  {
   "cell_type": "code",
   "execution_count": 230,
   "metadata": {},
   "outputs": [
    {
     "data": {
      "text/plain": [
       "40815"
      ]
     },
     "execution_count": 230,
     "metadata": {},
     "output_type": "execute_result"
    }
   ],
   "source": [
    "# Now let's get a list of all the actors. First let's create a table (much like country_df) that has only the show_id\n",
    "# and the actor name. Thus a single show_id can have multiple rows if it mentions multiple actors\n",
    "cast_df = df.copy()\n",
    "column_list = ['title', 'director', 'country', 'date_added', 'release_year', 'rating', 'duration', 'listed_in', 'description']\n",
    "cast_df = cast_df.drop(column_list, axis = 1)\n",
    "cast_df = cast_df[cast_df['cast'].notnull()]\n",
    "\n",
    "# For entries with multiple actors for a production, we want to give every actor credit for this. Lets divide\n",
    "# up the entries with multiple actors into multiple rows\n",
    "cast_df = pd.DataFrame(cast_df.cast.str.split(',').tolist(), index=cast_df.show_id).stack()\n",
    "cast_df = cast_df.reset_index([0, 'show_id'])\n",
    "\n",
    "\n",
    "# Unfortunately splitting up the string caused issues with white spaces. This next block was designed to deal with\n",
    "# making \" Actor ABC\" turn into \"Actor ABC\" for example\n",
    "clean_cast_list = []\n",
    "cast_list = cast_df[0].str.split(',').tolist()\n",
    "for i in cast_list:\n",
    "    for ii in i:\n",
    "        j = ii.strip()\n",
    "        clean_cast_list.append(j)\n",
    "\n",
    "# Replacing the country list with \n",
    "cast_df[0] = clean_cast_list\n",
    "len(cast_df)\n"
   ]
  },
  {
   "cell_type": "code",
   "execution_count": null,
   "metadata": {},
   "outputs": [],
   "source": []
  },
  {
   "cell_type": "code",
   "execution_count": null,
   "metadata": {},
   "outputs": [],
   "source": []
  },
  {
   "cell_type": "code",
   "execution_count": 171,
   "metadata": {},
   "outputs": [
    {
     "data": {
      "text/plain": [
       "['Chocolate', 'Guatemala: Heart of the Mayan World', 'Chip and Potato']"
      ]
     },
     "execution_count": 171,
     "metadata": {},
     "output_type": "execute_result"
    }
   ],
   "source": [
    "def get_article_names(recs, df=df):\n",
    "    \n",
    "    shows = df[df.show_id.isin(recs)]\n",
    "    shows = shows.drop_duplicates('show_id')\n",
    "    \n",
    "    names = []\n",
    "    for rec in recs:\n",
    "        # This line is complicated because it kept the index in when you selected the title and we just want the title\n",
    "        names.append(shows[shows['show_id'] == rec].title[df[df['show_id'] == rec].title.index[0]])\n",
    "    return names\n",
    "    \n",
    "# Test that this function works\n",
    "get_article_names([81193313,81197050,80213643])"
   ]
  },
  {
   "cell_type": "code",
   "execution_count": 172,
   "metadata": {},
   "outputs": [
    {
     "ename": "IndexError",
     "evalue": "index 0 is out of bounds for axis 0 with size 0",
     "output_type": "error",
     "traceback": [
      "\u001b[0;31m---------------------------------------------------------------------------\u001b[0m",
      "\u001b[0;31mIndexError\u001b[0m                                Traceback (most recent call last)",
      "\u001b[0;32m<ipython-input-172-bfb3db15aa9f>\u001b[0m in \u001b[0;36m<module>\u001b[0;34m\u001b[0m\n\u001b[1;32m     23\u001b[0m \u001b[0;31m#get rec id and names\u001b[0m\u001b[0;34m\u001b[0m\u001b[0;34m\u001b[0m\u001b[0;34m\u001b[0m\u001b[0m\n\u001b[1;32m     24\u001b[0m \u001b[0mrecs\u001b[0m \u001b[0;34m=\u001b[0m \u001b[0mrecs_df\u001b[0m\u001b[0;34m.\u001b[0m\u001b[0mshow_id\u001b[0m\u001b[0;34m[\u001b[0m\u001b[0;34m:\u001b[0m\u001b[0;36m10\u001b[0m\u001b[0;34m]\u001b[0m\u001b[0;34m.\u001b[0m\u001b[0mvalues\u001b[0m\u001b[0;34m.\u001b[0m\u001b[0mastype\u001b[0m\u001b[0;34m(\u001b[0m\u001b[0mstr\u001b[0m\u001b[0;34m)\u001b[0m\u001b[0;34m\u001b[0m\u001b[0;34m\u001b[0m\u001b[0m\n\u001b[0;32m---> 25\u001b[0;31m \u001b[0mrec_names\u001b[0m \u001b[0;34m=\u001b[0m \u001b[0mget_article_names\u001b[0m\u001b[0;34m(\u001b[0m\u001b[0mrecs\u001b[0m\u001b[0;34m)\u001b[0m\u001b[0;34m\u001b[0m\u001b[0;34m\u001b[0m\u001b[0m\n\u001b[0m\u001b[1;32m     26\u001b[0m \u001b[0mrec_names\u001b[0m\u001b[0;34m\u001b[0m\u001b[0;34m\u001b[0m\u001b[0m\n",
      "\u001b[0;32m<ipython-input-171-1e4a0b043fd5>\u001b[0m in \u001b[0;36mget_article_names\u001b[0;34m(recs, df)\u001b[0m\n\u001b[1;32m      7\u001b[0m     \u001b[0;32mfor\u001b[0m \u001b[0mrec\u001b[0m \u001b[0;32min\u001b[0m \u001b[0mrecs\u001b[0m\u001b[0;34m:\u001b[0m\u001b[0;34m\u001b[0m\u001b[0;34m\u001b[0m\u001b[0m\n\u001b[1;32m      8\u001b[0m         \u001b[0;31m# This line is complicated because it kept the index in when you selected the title and we just want the title\u001b[0m\u001b[0;34m\u001b[0m\u001b[0;34m\u001b[0m\u001b[0;34m\u001b[0m\u001b[0m\n\u001b[0;32m----> 9\u001b[0;31m         \u001b[0mnames\u001b[0m\u001b[0;34m.\u001b[0m\u001b[0mappend\u001b[0m\u001b[0;34m(\u001b[0m\u001b[0mshows\u001b[0m\u001b[0;34m[\u001b[0m\u001b[0mshows\u001b[0m\u001b[0;34m[\u001b[0m\u001b[0;34m'show_id'\u001b[0m\u001b[0;34m]\u001b[0m \u001b[0;34m==\u001b[0m \u001b[0mrec\u001b[0m\u001b[0;34m]\u001b[0m\u001b[0;34m.\u001b[0m\u001b[0mtitle\u001b[0m\u001b[0;34m[\u001b[0m\u001b[0mdf\u001b[0m\u001b[0;34m[\u001b[0m\u001b[0mdf\u001b[0m\u001b[0;34m[\u001b[0m\u001b[0;34m'show_id'\u001b[0m\u001b[0;34m]\u001b[0m \u001b[0;34m==\u001b[0m \u001b[0mrec\u001b[0m\u001b[0;34m]\u001b[0m\u001b[0;34m.\u001b[0m\u001b[0mtitle\u001b[0m\u001b[0;34m.\u001b[0m\u001b[0mindex\u001b[0m\u001b[0;34m[\u001b[0m\u001b[0;36m0\u001b[0m\u001b[0;34m]\u001b[0m\u001b[0;34m]\u001b[0m\u001b[0;34m)\u001b[0m\u001b[0;34m\u001b[0m\u001b[0;34m\u001b[0m\u001b[0m\n\u001b[0m\u001b[1;32m     10\u001b[0m     \u001b[0;32mreturn\u001b[0m \u001b[0mnames\u001b[0m\u001b[0;34m\u001b[0m\u001b[0;34m\u001b[0m\u001b[0m\n\u001b[1;32m     11\u001b[0m \u001b[0;34m\u001b[0m\u001b[0m\n",
      "\u001b[0;32m/anaconda3/lib/python3.7/site-packages/pandas/core/indexes/base.py\u001b[0m in \u001b[0;36m__getitem__\u001b[0;34m(self, key)\u001b[0m\n\u001b[1;32m   3955\u001b[0m         \u001b[0;32mif\u001b[0m \u001b[0mis_scalar\u001b[0m\u001b[0;34m(\u001b[0m\u001b[0mkey\u001b[0m\u001b[0;34m)\u001b[0m\u001b[0;34m:\u001b[0m\u001b[0;34m\u001b[0m\u001b[0;34m\u001b[0m\u001b[0m\n\u001b[1;32m   3956\u001b[0m             \u001b[0mkey\u001b[0m \u001b[0;34m=\u001b[0m \u001b[0mcom\u001b[0m\u001b[0;34m.\u001b[0m\u001b[0mcast_scalar_indexer\u001b[0m\u001b[0;34m(\u001b[0m\u001b[0mkey\u001b[0m\u001b[0;34m)\u001b[0m\u001b[0;34m\u001b[0m\u001b[0;34m\u001b[0m\u001b[0m\n\u001b[0;32m-> 3957\u001b[0;31m             \u001b[0;32mreturn\u001b[0m \u001b[0mgetitem\u001b[0m\u001b[0;34m(\u001b[0m\u001b[0mkey\u001b[0m\u001b[0;34m)\u001b[0m\u001b[0;34m\u001b[0m\u001b[0;34m\u001b[0m\u001b[0m\n\u001b[0m\u001b[1;32m   3958\u001b[0m \u001b[0;34m\u001b[0m\u001b[0m\n\u001b[1;32m   3959\u001b[0m         \u001b[0;32mif\u001b[0m \u001b[0misinstance\u001b[0m\u001b[0;34m(\u001b[0m\u001b[0mkey\u001b[0m\u001b[0;34m,\u001b[0m \u001b[0mslice\u001b[0m\u001b[0;34m)\u001b[0m\u001b[0;34m:\u001b[0m\u001b[0;34m\u001b[0m\u001b[0;34m\u001b[0m\u001b[0m\n",
      "\u001b[0;31mIndexError\u001b[0m: index 0 is out of bounds for axis 0 with size 0"
     ]
    }
   ],
   "source": [
    "# Create make_recs function\n",
    "# def make_recs()\n",
    "\n",
    "common_words = pd.value_counts(description_words).sort_values(ascending=False)[:10].index\n",
    "\n",
    "top_matches={}\n",
    "#count number of occurences of each common word in other article titles (this measures similarity)\n",
    "for word in common_words:\n",
    "    word_count = pd.Series(desc_df.description.str.count(word).fillna(0)) #gets occurences of each word in title\n",
    "    top_matches[word] = word_count\n",
    "\n",
    "top_matches = pd.DataFrame(top_matches) # num_cols== num of most common words\n",
    "top_matches['top_matches'] = top_matches.sum(axis=1)\n",
    "top_matches['show_id'] = desc_df.show_id.astype(float)\n",
    "\n",
    "#get most interacted with articles\n",
    "article_occurences = pd.DataFrame({'occurences':desc_df.show_id.value_counts()})\n",
    "\n",
    "#sort matches by most popular articles\n",
    "top_matches = top_matches.merge(article_occurences, left_on='show_id', right_index=True)\n",
    "top_matches.sort_values(['top_matches', 'occurences'], ascending=False, inplace=True)    \n",
    "\n",
    "#get rec id and names\n",
    "recs = recs_df.show_id[:10].values.astype(str)\n",
    "rec_names = get_article_names(recs)\n",
    "rec_names"
   ]
  },
  {
   "cell_type": "code",
   "execution_count": 105,
   "metadata": {},
   "outputs": [
    {
     "name": "stdout",
     "output_type": "stream",
     "text": [
      "<class 'pandas.core.frame.DataFrame'>\n",
      "RangeIndex: 5837 entries, 0 to 5836\n",
      "Data columns (total 12 columns):\n",
      "life           5837 non-null int64\n",
      "young          5837 non-null int64\n",
      "new            5837 non-null int64\n",
      "woman          5837 non-null int64\n",
      "family         5837 non-null int64\n",
      "find           5837 non-null int64\n",
      "friend         5837 non-null int64\n",
      "world          5837 non-null int64\n",
      "man            5837 non-null int64\n",
      "love           5837 non-null int64\n",
      "top_matches    5837 non-null int64\n",
      "article_id     5837 non-null float64\n",
      "dtypes: float64(1), int64(11)\n",
      "memory usage: 547.3 KB\n"
     ]
    },
    {
     "data": {
      "text/plain": [
       "Index(['life', 'young', 'new', 'woman', 'family', 'find', 'friend', 'world',\n",
       "       'man', 'love'],\n",
       "      dtype='object')"
      ]
     },
     "execution_count": 105,
     "metadata": {},
     "output_type": "execute_result"
    }
   ],
   "source": [
    "top_matches.info()"
   ]
  },
  {
   "cell_type": "code",
   "execution_count": null,
   "metadata": {},
   "outputs": [],
   "source": []
  }
 ],
 "metadata": {
  "kernelspec": {
   "display_name": "Python 3",
   "language": "python",
   "name": "python3"
  },
  "language_info": {
   "codemirror_mode": {
    "name": "ipython",
    "version": 3
   },
   "file_extension": ".py",
   "mimetype": "text/x-python",
   "name": "python",
   "nbconvert_exporter": "python",
   "pygments_lexer": "ipython3",
   "version": "3.7.2"
  }
 },
 "nbformat": 4,
 "nbformat_minor": 2
}
